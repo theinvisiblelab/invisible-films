{
 "cells": [
  {
   "cell_type": "code",
   "execution_count": 1,
   "id": "d758e2f4-3c4a-472a-aa20-01c5a9f2502c",
   "metadata": {},
   "outputs": [
    {
     "name": "stdout",
     "output_type": "stream",
     "text": [
      "Saved 40 train rows and 10 dev rows.\n"
     ]
    }
   ],
   "source": [
    "import pandas as pd, json, random, pathlib\n",
    "\n",
    "# Step 1: Load dataset and keep only rows that have a rating\n",
    "df = pd.read_csv(\"sample_ordered.csv\")\n",
    "df = df[df[\"vote_average\"].notna()].reset_index(drop=True)\n",
    "\n",
    "TARGET_COL = \"vote_average\"  # This is the value we want the model to predict\n",
    "\n",
    "# Step 2: Helper function to safely convert any value to a string\n",
    "def safe(val):\n",
    "    if pd.isna(val):\n",
    "        return \"\"\n",
    "    if isinstance(val, (list, dict)):\n",
    "        return json.dumps(val, ensure_ascii=False)\n",
    "    return str(val).replace(\"\\r\", \" \").replace(\"\\n\", \" \").strip()\n",
    "\n",
    "# Step 3: Format each row into a prompt using all available feature columns\n",
    "def row_to_prompt(row) -> str:\n",
    "    lines = [\n",
    "        f\"{col}: {safe(row[col])}\"\n",
    "        for col in df.columns if col != TARGET_COL\n",
    "    ]\n",
    "    features_block = \"\\n\".join(lines)\n",
    "    return (\n",
    "        \"### MOVIE FEATURES\\n\"\n",
    "        f\"{features_block}\\n\\n\"\n",
    "        \"### TASK\\n\"\n",
    "        \"Predict this movie's TMDB rating on a 0–10 scale (one decimal place).\\n\\n\"\n",
    "        \"### ANSWER\\n\"\n",
    "    )\n",
    "\n",
    "# Step 4: Build prompt + label pairs as JSONL records\n",
    "records = [\n",
    "    {\"text\": row_to_prompt(r) + str(r[TARGET_COL])}\n",
    "    for _, r in df.iterrows()\n",
    "]\n",
    "\n",
    "# Step 5: Shuffle and split into training and dev sets (80/20 split)\n",
    "random.seed(42)\n",
    "random.shuffle(records)\n",
    "\n",
    "dev_size = max(1, round(0.2 * len(records)))\n",
    "dev, train = records[:dev_size], records[dev_size:]\n",
    "\n",
    "# Step 6: Save train and dev sets to JSONL files\n",
    "pathlib.Path(\"train.jsonl\").write_text(\n",
    "    \"\\n\".join(json.dumps(r, ensure_ascii=False) for r in train), encoding=\"utf-8\"\n",
    ")\n",
    "pathlib.Path(\"dev.jsonl\").write_text(\n",
    "    \"\\n\".join(json.dumps(r, ensure_ascii=False) for r in dev), encoding=\"utf-8\"\n",
    ")\n",
    "\n",
    "print(f\"Saved {len(train)} train rows and {len(dev)} dev rows.\")"
   ]
  },
  {
   "cell_type": "code",
   "execution_count": null,
   "id": "d6307854-3729-4750-a6f7-006e0af8b6b1",
   "metadata": {},
   "outputs": [],
   "source": []
  }
 ],
 "metadata": {
  "kernelspec": {
   "display_name": "Python 3 (ipykernel)",
   "language": "python",
   "name": "python3"
  },
  "language_info": {
   "codemirror_mode": {
    "name": "ipython",
    "version": 3
   },
   "file_extension": ".py",
   "mimetype": "text/x-python",
   "name": "python",
   "nbconvert_exporter": "python",
   "pygments_lexer": "ipython3",
   "version": "3.9.13"
  }
 },
 "nbformat": 4,
 "nbformat_minor": 5
}
