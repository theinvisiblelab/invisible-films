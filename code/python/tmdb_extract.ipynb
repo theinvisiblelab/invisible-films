{
 "cells": [
  {
   "cell_type": "code",
   "execution_count": null,
   "id": "c4e4c46d-300f-4d01-b79f-237ac316c0b7",
   "metadata": {},
   "outputs": [],
   "source": [
    "import numpy as np\n",
    "import pandas as pd\n",
    "import os\n",
    "import gc\n",
    "import time\n",
    "from skimpy import skim\n",
    "from tqdm import tqdm\n",
    "from ratelimit import limits, sleep_and_retry\n",
    "from dotenv import load_dotenv\n",
    "\n",
    "# Load environment variables from .env file\n",
    "load_dotenv()\n",
    "\n",
    "tqdm.pandas()\n",
    "pd.set_option(\"display.max_columns\", None)\n",
    "\n",
    "import tmdbsimple as tmdb\n",
    "\n",
    "# Get API key from environment variable\n",
    "tmdb.API_KEY = os.getenv(\"TMDB_API_KEY\")"
   ]
  },
  {
   "cell_type": "code",
   "execution_count": null,
   "id": "1dacf52a-83ff-4ec9-9eb8-b509ccf35eff",
   "metadata": {},
   "outputs": [],
   "source": [
    "df = pd.read_json(\n",
    "    \"http://files.tmdb.org/p/exports/movie_ids_05_04_2025.json.gz\", lines=True\n",
    ")\n",
    "all_titles = sorted(df[\"id\"].unique())\n",
    "len(all_titles)"
   ]
  },
  {
   "cell_type": "code",
   "execution_count": null,
   "id": "ac7b7810-d33c-4235-9480-f10702e60b64",
   "metadata": {},
   "outputs": [],
   "source": [
    "df.head()"
   ]
  },
  {
   "cell_type": "code",
   "execution_count": null,
   "id": "a58467ba-35d0-42cf-8c4e-73138b6effcf",
   "metadata": {},
   "outputs": [],
   "source": [
    "del df\n",
    "gc.collect()"
   ]
  },
  {
   "cell_type": "code",
   "execution_count": null,
   "id": "6c60840f-84a2-4525-84ea-c9b66cf3064c",
   "metadata": {},
   "outputs": [],
   "source": []
  },
  {
   "cell_type": "code",
   "execution_count": null,
   "id": "44782de1-b638-42b1-bcaa-093b880aea24",
   "metadata": {},
   "outputs": [],
   "source": [
    "# Your list of titles to scrape\n",
    "titles_to_scrape = all_titles  # replace with your list of title IDs\n",
    "\n",
    "# Check if there's an existing CSV file\n",
    "csv_file = \"../data/movie_feb2025.csv\"\n",
    "\n",
    "# Check if the CSV file exists and load it\n",
    "if os.path.exists(csv_file):\n",
    "    existing_df = pd.read_csv(csv_file, lineterminator=\"\\n\")\n",
    "    scraped_titles = set(existing_df[\"id\"])\n",
    "else:\n",
    "    existing_df = pd.DataFrame()\n",
    "    scraped_titles = set()\n",
    "\n",
    "# Remove already scraped titles from titles_to_scrape\n",
    "titles_to_scrape = sorted(list(set(titles_to_scrape) - scraped_titles))\n",
    "\n",
    "print(\"Total titles already scraped:\", len(scraped_titles))\n",
    "print(\n",
    "    f\"{round((len(scraped_titles) * 100) / len(all_titles), 2)}% titles already scraped\"\n",
    ")\n",
    "print(\"Total titles left to scrape:\", len(titles_to_scrape))"
   ]
  },
  {
   "cell_type": "code",
   "execution_count": null,
   "id": "4d1066d7-4a52-4d5a-94a5-e5841433f97d",
   "metadata": {},
   "outputs": [],
   "source": [
    "# 50 calls per second max\n",
    "@sleep_and_retry\n",
    "@limits(calls=50, period=1)\n",
    "def get_movie(id):\n",
    "    try:\n",
    "        return tmdb.Movies(id).info()\n",
    "    except Exception as e:\n",
    "        print(e)\n",
    "        return None"
   ]
  },
  {
   "cell_type": "code",
   "execution_count": null,
   "id": "5ff07983-670d-4d94-bc61-fbceb0a600d9",
   "metadata": {},
   "outputs": [],
   "source": [
    "get_movie(50132)"
   ]
  },
  {
   "cell_type": "code",
   "execution_count": null,
   "id": "e51f6a6a-8025-43c0-99b4-2e70deeaba4b",
   "metadata": {},
   "outputs": [],
   "source": [
    "existing_df.info()"
   ]
  },
  {
   "cell_type": "code",
   "execution_count": null,
   "id": "6748a28d-21c8-419b-a8cc-44c4de2fe1ab",
   "metadata": {},
   "outputs": [],
   "source": []
  },
  {
   "cell_type": "code",
   "execution_count": null,
   "id": "e366260d-8c74-4b66-be3e-f1970f576098",
   "metadata": {},
   "outputs": [],
   "source": [
    "####################### $$$$$$ ######################\n",
    "\n",
    "for id in tqdm(titles_to_scrape):\n",
    "    try:\n",
    "        movie = get_movie(id)\n",
    "        if movie:\n",
    "            movie_df = pd.DataFrame([movie])\n",
    "            movie_df['novelty'] = np.nan\n",
    "            existing_df = pd.concat(\n",
    "                [existing_df, movie_df], ignore_index=True, sort=False\n",
    "            )\n",
    "    except Exception as e:\n",
    "        print(f\"Error retrieving data for film ID {film_id}: {e}\")"
   ]
  },
  {
   "cell_type": "code",
   "execution_count": null,
   "id": "32f642aa-c89d-4b74-a7ce-399e6532fb41",
   "metadata": {},
   "outputs": [],
   "source": [
    "# this is the old + new data\n",
    "len(existing_df)"
   ]
  },
  {
   "cell_type": "code",
   "execution_count": null,
   "id": "d1b82e93-6d5b-42ce-9909-aab9e6baed9e",
   "metadata": {},
   "outputs": [],
   "source": [
    "existing_df.info()"
   ]
  },
  {
   "cell_type": "code",
   "execution_count": null,
   "id": "e65bed29-a0db-4215-9ada-26e4857bfa36",
   "metadata": {},
   "outputs": [],
   "source": [
    "skim(existing_df)"
   ]
  },
  {
   "cell_type": "code",
   "execution_count": null,
   "id": "be20a0a0-a4ff-4724-bc04-d37a0a4cbeaa",
   "metadata": {},
   "outputs": [],
   "source": [
    "existing_df.tail()"
   ]
  },
  {
   "cell_type": "code",
   "execution_count": null,
   "id": "d60502f0-c872-445c-88d4-104958240cec",
   "metadata": {},
   "outputs": [],
   "source": []
  },
  {
   "cell_type": "code",
   "execution_count": null,
   "id": "a1f4f241-ae29-44d4-8318-dcd3f0d12b1f",
   "metadata": {},
   "outputs": [],
   "source": []
  },
  {
   "cell_type": "code",
   "execution_count": null,
   "id": "91cf7792-412e-473f-b5ed-61e90ca0e9d0",
   "metadata": {},
   "outputs": [],
   "source": []
  },
  {
   "cell_type": "code",
   "execution_count": null,
   "id": "07c01c86-0bee-4e4d-a6b8-52df819219a4",
   "metadata": {},
   "outputs": [],
   "source": []
  },
  {
   "cell_type": "code",
   "execution_count": null,
   "id": "a5e61744-bf74-48b9-bf0b-aafe3df34dea",
   "metadata": {},
   "outputs": [],
   "source": [
    "# Write/Append to CSV file\n",
    "existing_df.to_csv(csv_file, index=False)"
   ]
  },
  {
   "cell_type": "code",
   "execution_count": null,
   "id": "eb86a3ff-2f7e-4d2f-a76c-9ba3f8af435f",
   "metadata": {},
   "outputs": [],
   "source": []
  },
  {
   "cell_type": "code",
   "execution_count": null,
   "id": "c57b6dfe-32e5-4cbb-b718-d1d6a388d3f3",
   "metadata": {},
   "outputs": [],
   "source": []
  },
  {
   "cell_type": "code",
   "execution_count": null,
   "id": "4940b018-6882-4cb2-899c-93153693b063",
   "metadata": {},
   "outputs": [],
   "source": []
  },
  {
   "cell_type": "code",
   "execution_count": null,
   "id": "d247d7b8-063d-414b-b26c-fab1532b43e5",
   "metadata": {},
   "outputs": [],
   "source": []
  },
  {
   "cell_type": "code",
   "execution_count": null,
   "id": "5f7bb3ba-b206-4cdf-bdb6-f8208b7c47b8",
   "metadata": {},
   "outputs": [],
   "source": []
  }
 ],
 "metadata": {
  "kernelspec": {
   "display_name": "invisible-films",
   "language": "python",
   "name": "python3"
  },
  "language_info": {
   "codemirror_mode": {
    "name": "ipython",
    "version": 3
   },
   "file_extension": ".py",
   "mimetype": "text/x-python",
   "name": "python",
   "nbconvert_exporter": "python",
   "pygments_lexer": "ipython3",
   "version": "3.12.11"
  }
 },
 "nbformat": 4,
 "nbformat_minor": 5
}
